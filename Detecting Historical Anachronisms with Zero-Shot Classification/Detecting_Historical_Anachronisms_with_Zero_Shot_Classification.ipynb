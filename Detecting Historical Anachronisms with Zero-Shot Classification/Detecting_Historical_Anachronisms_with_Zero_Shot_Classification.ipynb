{
  "nbformat": 4,
  "nbformat_minor": 0,
  "metadata": {
    "colab": {
      "provenance": []
    },
    "kernelspec": {
      "name": "python3",
      "display_name": "Python 3"
    },
    "language_info": {
      "name": "python"
    }
  },
  "cells": [
    {
      "cell_type": "markdown",
      "source": [
        "#1. Setup and Installations\n",
        "First, let's install and import the necessary libraries. We need datasets to load our data from the Hugging Face Hub and transformers for the zero-shot classification pipeline. We'll also use pandas for data manipulation and matplotlib/seaborn for plotting."
      ],
      "metadata": {
        "id": "9gWJQdND6EPy"
      }
    },
    {
      "cell_type": "code",
      "source": [
        "# Install the required libraries quietly\n",
        "!pip install transformers datasets torch pandas scikit-learn seaborn -q"
      ],
      "metadata": {
        "id": "R0zf3oJR6IoU"
      },
      "execution_count": 1,
      "outputs": []
    },
    {
      "cell_type": "code",
      "source": [
        "# Import all the necessary modules\n",
        "import pandas as pd\n",
        "import re\n",
        "import seaborn as sns\n",
        "import matplotlib.pyplot as plt\n",
        "\n",
        "from datasets import load_dataset\n",
        "from transformers import pipeline\n",
        "from sklearn.metrics import confusion_matrix, classification_report\n",
        "from tqdm.auto import tqdm # For a nice progress bar"
      ],
      "metadata": {
        "id": "IGGXGqot6M5n"
      },
      "execution_count": 2,
      "outputs": []
    },
    {
      "cell_type": "markdown",
      "source": [
        "# 2. Load the Dataset\n",
        "Next, we load the anachronisms dataset directly from the Hugging Face Hub. This dataset contains sentences, some of which are anachronistic. Our goal is to have the model correctly identify them.\n",
        "\n",
        "The dataset has a 'train' split, which we will use for our zero-shot evaluation. In a real zero-shot scenario, you wouldn't use a training set for training, but here we use it as our evaluation set to test the model's pre-existing knowledge."
      ],
      "metadata": {
        "id": "Zwq6QlLO6RgA"
      }
    },
    {
      "cell_type": "code",
      "source": [
        "# Load the dataset\n",
        "# You might need to be logged into Hugging Face for this dataset.\n",
        "# If you get an error, run `huggingface-cli login` in a terminal or a Colab cell.\n",
        "try:\n",
        "    dataset = load_dataset(\"tasksource/bigbench\", \"anachronisms\")\n",
        "except Exception as e:\n",
        "    print(f\"Error loading dataset: {e}\")\n",
        "    print(\"\\nPlease ensure you are logged into your Hugging Face account.\")\n",
        "    print(\"You can do so by running `!huggingface-cli login` in a cell and entering your token.\")\n",
        "\n",
        "# We'll use the 'train' split as our evaluation set for this zero-shot task.\n",
        "# Let's convert it to a pandas DataFrame for easier manipulation.\n",
        "df = pd.DataFrame(dataset['train'])\n",
        "\n",
        "# Let's take a smaller sample for quicker processing.\n",
        "# For a full evaluation, you could use the entire dataset.\n",
        "df_sample = df.sample(n=200, random_state=42, replace = \"True\")\n",
        "\n",
        "print(f\"Loaded {len(df)} examples. Using a sample of {len(df_sample)} for this demo.\")\n",
        "df_sample.head()"
      ],
      "metadata": {
        "colab": {
          "base_uri": "https://localhost:8080/",
          "height": 487,
          "referenced_widgets": [
            "a9918161515f416ca8c988f1294095a3",
            "44f37d746a7e44a7b40169a0c17d1ed3",
            "3af6d952c65c42b4b81ba44557e85be4",
            "9ffb564502bd44b690e4db017fdb3b90",
            "9dd0380c9473495fa9828991228f7532",
            "4c0e01704d5d41c7a5c264b85983ba42",
            "df219a45611d4cfc82a8b381080229b5",
            "ed235e2e1b5945d4a23584211d6bb3dc",
            "3fbf562c51564338b814b2a921feec66",
            "a850be75033a4eafba559e3b2eeba959",
            "728fbd18616d413193502acab4469843",
            "81419f7aa8fd4e3798b2311e96d2c130",
            "5d6a6b2eed37409185838ad939709118",
            "95f57d2b072d46c1921cdbe7806953b4",
            "d1206f81665346bfb266c4d59aba2e0f",
            "54d670ae95904761aa2b5748e0fe334c",
            "670152a20c8e4166886c019fc88844f6",
            "b77f246fa4444f65b5661d6968cc31b2",
            "88e1759245994142972b63a16b7bf41a",
            "27526042e36d4057866de0a29f15069f",
            "cfeae9edaf6f4a1c9beff572d0ffb1d9",
            "368d1a2825c4414ca9d3d3beb6342d0e",
            "f23f46269f4441ec8f08b751908be28a",
            "9045271512c14a14a5e0c58d1cda59c5",
            "8a069884f3c64fc2b95e2b5736751fa7",
            "21b7d376f8514f2892d0935a81b3d8b6",
            "c1c27043a7df40debe3e3184c25ffe0b",
            "f70dfec3609347eca804b2b2fe42747a",
            "c048736410304ca481cb736719ea666f",
            "64a409ec8c8e443eb51d077cdbfd5d9c",
            "2ab5d8b52b814c76997043908d7ee711",
            "941ecd0877674e88bbe71c7d2d11fe41",
            "6989e8efce48408a95486c94a3973837",
            "290aa7d1ceb740b4b709ab8a35cee3a3",
            "8cc30a5154c74f66a418c89ec5c3d71a",
            "7f4acb90472141fc86cbcd0ffc35d052",
            "6bfc590fff594dac88c739254b4b5bcb",
            "7f2045b321ef40ef872e6f2d3bcfeb57",
            "807e6e2603f648f8a333fd91dcde72c9",
            "e14ad8fbf23b4f7e99e565a21db112da",
            "5a4a14545e614325b154a7fb5a4d8908",
            "203c8864d0614c9c90cea05a832156b5",
            "120a3b805f9b46ffac69420fd3ceca7e",
            "5cff0b0d17204ea596b5f2b6f6f9fb55",
            "3eadd2ddde044f79adca7febb74f1ac8",
            "bb3873ff99e844ebb3c51ca1c5575c19",
            "c4b0d501f55e4d1fbbabb496cc49f36b",
            "f8732786691d48ecbcade54b8b11eb58",
            "4904330b96064ce2a44d551ac9a7734e",
            "ae22c9f189014bcea6947646b4c33794",
            "9eb514a0cba74ea0a1266ac3ddace6e4",
            "edc6719a0ae94fc587ec3e088b7baab9",
            "a67a3f1a6dd84ff29b20c4e604084f1f",
            "899fca46d67c4486b5cc27df0a75bc27",
            "6f8a7be411c947b6a7055e6ef0fef519"
          ]
        },
        "id": "ZTg_EBuU6TbR",
        "outputId": "15f457bd-c52b-4462-f196-bc3a4ecb68c7"
      },
      "execution_count": 3,
      "outputs": [
        {
          "output_type": "stream",
          "name": "stderr",
          "text": [
            "/usr/local/lib/python3.12/dist-packages/huggingface_hub/utils/_auth.py:94: UserWarning: \n",
            "The secret `HF_TOKEN` does not exist in your Colab secrets.\n",
            "To authenticate with the Hugging Face Hub, create a token in your settings tab (https://huggingface.co/settings/tokens), set it as secret in your Google Colab and restart your session.\n",
            "You will be able to reuse this secret in all of your notebooks.\n",
            "Please note that authentication is recommended but still optional to access public models or datasets.\n",
            "  warnings.warn(\n"
          ]
        },
        {
          "output_type": "display_data",
          "data": {
            "text/plain": [
              "README.md: 0.00B [00:00, ?B/s]"
            ],
            "application/vnd.jupyter.widget-view+json": {
              "version_major": 2,
              "version_minor": 0,
              "model_id": "a9918161515f416ca8c988f1294095a3"
            }
          },
          "metadata": {}
        },
        {
          "output_type": "display_data",
          "data": {
            "text/plain": [
              "anachronisms/train-00000-of-00001.parque(…):   0%|          | 0.00/15.1k [00:00<?, ?B/s]"
            ],
            "application/vnd.jupyter.widget-view+json": {
              "version_major": 2,
              "version_minor": 0,
              "model_id": "81419f7aa8fd4e3798b2311e96d2c130"
            }
          },
          "metadata": {}
        },
        {
          "output_type": "display_data",
          "data": {
            "text/plain": [
              "anachronisms/validation-00000-of-00001.p(…):   0%|          | 0.00/6.96k [00:00<?, ?B/s]"
            ],
            "application/vnd.jupyter.widget-view+json": {
              "version_major": 2,
              "version_minor": 0,
              "model_id": "f23f46269f4441ec8f08b751908be28a"
            }
          },
          "metadata": {}
        },
        {
          "output_type": "display_data",
          "data": {
            "text/plain": [
              "Generating train split:   0%|          | 0/184 [00:00<?, ? examples/s]"
            ],
            "application/vnd.jupyter.widget-view+json": {
              "version_major": 2,
              "version_minor": 0,
              "model_id": "290aa7d1ceb740b4b709ab8a35cee3a3"
            }
          },
          "metadata": {}
        },
        {
          "output_type": "display_data",
          "data": {
            "text/plain": [
              "Generating validation split:   0%|          | 0/46 [00:00<?, ? examples/s]"
            ],
            "application/vnd.jupyter.widget-view+json": {
              "version_major": 2,
              "version_minor": 0,
              "model_id": "3eadd2ddde044f79adca7febb74f1ac8"
            }
          },
          "metadata": {}
        },
        {
          "output_type": "stream",
          "name": "stdout",
          "text": [
            "Loaded 184 examples. Using a sample of 200 for this demo.\n"
          ]
        },
        {
          "output_type": "execute_result",
          "data": {
            "text/plain": [
              "                                                inputs targets  \\\n",
              "102  Pharoah Thutmose III successfully expanded the...    [No]   \n",
              "179  Pharoah Thutmose III successfully expanded the...   [Yes]   \n",
              "92   Johann Sebastian Bach wrote the book \"Mathemat...    [No]   \n",
              "14   Thomas Jefferson enjoyed honeycrisp apples on ...   [Yes]   \n",
              "106  The woman and the wooly mammoth happily played...    [No]   \n",
              "\n",
              "    multiple_choice_targets multiple_choice_scores  idx  \n",
              "102               [Yes, No]                 [0, 1]  102  \n",
              "179               [Yes, No]                 [1, 0]  179  \n",
              "92                [Yes, No]                 [0, 1]   92  \n",
              "14                [Yes, No]                 [1, 0]   14  \n",
              "106               [Yes, No]                 [0, 1]  106  "
            ],
            "text/html": [
              "\n",
              "  <div id=\"df-6f101a53-09dc-439b-a180-1debdb81a05b\" class=\"colab-df-container\">\n",
              "    <div>\n",
              "<style scoped>\n",
              "    .dataframe tbody tr th:only-of-type {\n",
              "        vertical-align: middle;\n",
              "    }\n",
              "\n",
              "    .dataframe tbody tr th {\n",
              "        vertical-align: top;\n",
              "    }\n",
              "\n",
              "    .dataframe thead th {\n",
              "        text-align: right;\n",
              "    }\n",
              "</style>\n",
              "<table border=\"1\" class=\"dataframe\">\n",
              "  <thead>\n",
              "    <tr style=\"text-align: right;\">\n",
              "      <th></th>\n",
              "      <th>inputs</th>\n",
              "      <th>targets</th>\n",
              "      <th>multiple_choice_targets</th>\n",
              "      <th>multiple_choice_scores</th>\n",
              "      <th>idx</th>\n",
              "    </tr>\n",
              "  </thead>\n",
              "  <tbody>\n",
              "    <tr>\n",
              "      <th>102</th>\n",
              "      <td>Pharoah Thutmose III successfully expanded the...</td>\n",
              "      <td>[No]</td>\n",
              "      <td>[Yes, No]</td>\n",
              "      <td>[0, 1]</td>\n",
              "      <td>102</td>\n",
              "    </tr>\n",
              "    <tr>\n",
              "      <th>179</th>\n",
              "      <td>Pharoah Thutmose III successfully expanded the...</td>\n",
              "      <td>[Yes]</td>\n",
              "      <td>[Yes, No]</td>\n",
              "      <td>[1, 0]</td>\n",
              "      <td>179</td>\n",
              "    </tr>\n",
              "    <tr>\n",
              "      <th>92</th>\n",
              "      <td>Johann Sebastian Bach wrote the book \"Mathemat...</td>\n",
              "      <td>[No]</td>\n",
              "      <td>[Yes, No]</td>\n",
              "      <td>[0, 1]</td>\n",
              "      <td>92</td>\n",
              "    </tr>\n",
              "    <tr>\n",
              "      <th>14</th>\n",
              "      <td>Thomas Jefferson enjoyed honeycrisp apples on ...</td>\n",
              "      <td>[Yes]</td>\n",
              "      <td>[Yes, No]</td>\n",
              "      <td>[1, 0]</td>\n",
              "      <td>14</td>\n",
              "    </tr>\n",
              "    <tr>\n",
              "      <th>106</th>\n",
              "      <td>The woman and the wooly mammoth happily played...</td>\n",
              "      <td>[No]</td>\n",
              "      <td>[Yes, No]</td>\n",
              "      <td>[0, 1]</td>\n",
              "      <td>106</td>\n",
              "    </tr>\n",
              "  </tbody>\n",
              "</table>\n",
              "</div>\n",
              "    <div class=\"colab-df-buttons\">\n",
              "\n",
              "  <div class=\"colab-df-container\">\n",
              "    <button class=\"colab-df-convert\" onclick=\"convertToInteractive('df-6f101a53-09dc-439b-a180-1debdb81a05b')\"\n",
              "            title=\"Convert this dataframe to an interactive table.\"\n",
              "            style=\"display:none;\">\n",
              "\n",
              "  <svg xmlns=\"http://www.w3.org/2000/svg\" height=\"24px\" viewBox=\"0 -960 960 960\">\n",
              "    <path d=\"M120-120v-720h720v720H120Zm60-500h600v-160H180v160Zm220 220h160v-160H400v160Zm0 220h160v-160H400v160ZM180-400h160v-160H180v160Zm440 0h160v-160H620v160ZM180-180h160v-160H180v160Zm440 0h160v-160H620v160Z\"/>\n",
              "  </svg>\n",
              "    </button>\n",
              "\n",
              "  <style>\n",
              "    .colab-df-container {\n",
              "      display:flex;\n",
              "      gap: 12px;\n",
              "    }\n",
              "\n",
              "    .colab-df-convert {\n",
              "      background-color: #E8F0FE;\n",
              "      border: none;\n",
              "      border-radius: 50%;\n",
              "      cursor: pointer;\n",
              "      display: none;\n",
              "      fill: #1967D2;\n",
              "      height: 32px;\n",
              "      padding: 0 0 0 0;\n",
              "      width: 32px;\n",
              "    }\n",
              "\n",
              "    .colab-df-convert:hover {\n",
              "      background-color: #E2EBFA;\n",
              "      box-shadow: 0px 1px 2px rgba(60, 64, 67, 0.3), 0px 1px 3px 1px rgba(60, 64, 67, 0.15);\n",
              "      fill: #174EA6;\n",
              "    }\n",
              "\n",
              "    .colab-df-buttons div {\n",
              "      margin-bottom: 4px;\n",
              "    }\n",
              "\n",
              "    [theme=dark] .colab-df-convert {\n",
              "      background-color: #3B4455;\n",
              "      fill: #D2E3FC;\n",
              "    }\n",
              "\n",
              "    [theme=dark] .colab-df-convert:hover {\n",
              "      background-color: #434B5C;\n",
              "      box-shadow: 0px 1px 3px 1px rgba(0, 0, 0, 0.15);\n",
              "      filter: drop-shadow(0px 1px 2px rgba(0, 0, 0, 0.3));\n",
              "      fill: #FFFFFF;\n",
              "    }\n",
              "  </style>\n",
              "\n",
              "    <script>\n",
              "      const buttonEl =\n",
              "        document.querySelector('#df-6f101a53-09dc-439b-a180-1debdb81a05b button.colab-df-convert');\n",
              "      buttonEl.style.display =\n",
              "        google.colab.kernel.accessAllowed ? 'block' : 'none';\n",
              "\n",
              "      async function convertToInteractive(key) {\n",
              "        const element = document.querySelector('#df-6f101a53-09dc-439b-a180-1debdb81a05b');\n",
              "        const dataTable =\n",
              "          await google.colab.kernel.invokeFunction('convertToInteractive',\n",
              "                                                    [key], {});\n",
              "        if (!dataTable) return;\n",
              "\n",
              "        const docLinkHtml = 'Like what you see? Visit the ' +\n",
              "          '<a target=\"_blank\" href=https://colab.research.google.com/notebooks/data_table.ipynb>data table notebook</a>'\n",
              "          + ' to learn more about interactive tables.';\n",
              "        element.innerHTML = '';\n",
              "        dataTable['output_type'] = 'display_data';\n",
              "        await google.colab.output.renderOutput(dataTable, element);\n",
              "        const docLink = document.createElement('div');\n",
              "        docLink.innerHTML = docLinkHtml;\n",
              "        element.appendChild(docLink);\n",
              "      }\n",
              "    </script>\n",
              "  </div>\n",
              "\n",
              "\n",
              "    <div id=\"df-8319dd49-ecf9-4299-a87f-447c5893058d\">\n",
              "      <button class=\"colab-df-quickchart\" onclick=\"quickchart('df-8319dd49-ecf9-4299-a87f-447c5893058d')\"\n",
              "                title=\"Suggest charts\"\n",
              "                style=\"display:none;\">\n",
              "\n",
              "<svg xmlns=\"http://www.w3.org/2000/svg\" height=\"24px\"viewBox=\"0 0 24 24\"\n",
              "     width=\"24px\">\n",
              "    <g>\n",
              "        <path d=\"M19 3H5c-1.1 0-2 .9-2 2v14c0 1.1.9 2 2 2h14c1.1 0 2-.9 2-2V5c0-1.1-.9-2-2-2zM9 17H7v-7h2v7zm4 0h-2V7h2v10zm4 0h-2v-4h2v4z\"/>\n",
              "    </g>\n",
              "</svg>\n",
              "      </button>\n",
              "\n",
              "<style>\n",
              "  .colab-df-quickchart {\n",
              "      --bg-color: #E8F0FE;\n",
              "      --fill-color: #1967D2;\n",
              "      --hover-bg-color: #E2EBFA;\n",
              "      --hover-fill-color: #174EA6;\n",
              "      --disabled-fill-color: #AAA;\n",
              "      --disabled-bg-color: #DDD;\n",
              "  }\n",
              "\n",
              "  [theme=dark] .colab-df-quickchart {\n",
              "      --bg-color: #3B4455;\n",
              "      --fill-color: #D2E3FC;\n",
              "      --hover-bg-color: #434B5C;\n",
              "      --hover-fill-color: #FFFFFF;\n",
              "      --disabled-bg-color: #3B4455;\n",
              "      --disabled-fill-color: #666;\n",
              "  }\n",
              "\n",
              "  .colab-df-quickchart {\n",
              "    background-color: var(--bg-color);\n",
              "    border: none;\n",
              "    border-radius: 50%;\n",
              "    cursor: pointer;\n",
              "    display: none;\n",
              "    fill: var(--fill-color);\n",
              "    height: 32px;\n",
              "    padding: 0;\n",
              "    width: 32px;\n",
              "  }\n",
              "\n",
              "  .colab-df-quickchart:hover {\n",
              "    background-color: var(--hover-bg-color);\n",
              "    box-shadow: 0 1px 2px rgba(60, 64, 67, 0.3), 0 1px 3px 1px rgba(60, 64, 67, 0.15);\n",
              "    fill: var(--button-hover-fill-color);\n",
              "  }\n",
              "\n",
              "  .colab-df-quickchart-complete:disabled,\n",
              "  .colab-df-quickchart-complete:disabled:hover {\n",
              "    background-color: var(--disabled-bg-color);\n",
              "    fill: var(--disabled-fill-color);\n",
              "    box-shadow: none;\n",
              "  }\n",
              "\n",
              "  .colab-df-spinner {\n",
              "    border: 2px solid var(--fill-color);\n",
              "    border-color: transparent;\n",
              "    border-bottom-color: var(--fill-color);\n",
              "    animation:\n",
              "      spin 1s steps(1) infinite;\n",
              "  }\n",
              "\n",
              "  @keyframes spin {\n",
              "    0% {\n",
              "      border-color: transparent;\n",
              "      border-bottom-color: var(--fill-color);\n",
              "      border-left-color: var(--fill-color);\n",
              "    }\n",
              "    20% {\n",
              "      border-color: transparent;\n",
              "      border-left-color: var(--fill-color);\n",
              "      border-top-color: var(--fill-color);\n",
              "    }\n",
              "    30% {\n",
              "      border-color: transparent;\n",
              "      border-left-color: var(--fill-color);\n",
              "      border-top-color: var(--fill-color);\n",
              "      border-right-color: var(--fill-color);\n",
              "    }\n",
              "    40% {\n",
              "      border-color: transparent;\n",
              "      border-right-color: var(--fill-color);\n",
              "      border-top-color: var(--fill-color);\n",
              "    }\n",
              "    60% {\n",
              "      border-color: transparent;\n",
              "      border-right-color: var(--fill-color);\n",
              "    }\n",
              "    80% {\n",
              "      border-color: transparent;\n",
              "      border-right-color: var(--fill-color);\n",
              "      border-bottom-color: var(--fill-color);\n",
              "    }\n",
              "    90% {\n",
              "      border-color: transparent;\n",
              "      border-bottom-color: var(--fill-color);\n",
              "    }\n",
              "  }\n",
              "</style>\n",
              "\n",
              "      <script>\n",
              "        async function quickchart(key) {\n",
              "          const quickchartButtonEl =\n",
              "            document.querySelector('#' + key + ' button');\n",
              "          quickchartButtonEl.disabled = true;  // To prevent multiple clicks.\n",
              "          quickchartButtonEl.classList.add('colab-df-spinner');\n",
              "          try {\n",
              "            const charts = await google.colab.kernel.invokeFunction(\n",
              "                'suggestCharts', [key], {});\n",
              "          } catch (error) {\n",
              "            console.error('Error during call to suggestCharts:', error);\n",
              "          }\n",
              "          quickchartButtonEl.classList.remove('colab-df-spinner');\n",
              "          quickchartButtonEl.classList.add('colab-df-quickchart-complete');\n",
              "        }\n",
              "        (() => {\n",
              "          let quickchartButtonEl =\n",
              "            document.querySelector('#df-8319dd49-ecf9-4299-a87f-447c5893058d button');\n",
              "          quickchartButtonEl.style.display =\n",
              "            google.colab.kernel.accessAllowed ? 'block' : 'none';\n",
              "        })();\n",
              "      </script>\n",
              "    </div>\n",
              "\n",
              "    </div>\n",
              "  </div>\n"
            ],
            "application/vnd.google.colaboratory.intrinsic+json": {
              "type": "dataframe",
              "variable_name": "df_sample",
              "summary": "{\n  \"name\": \"df_sample\",\n  \"rows\": 200,\n  \"fields\": [\n    {\n      \"column\": \"inputs\",\n      \"properties\": {\n        \"dtype\": \"string\",\n        \"num_unique_values\": 114,\n        \"samples\": [\n          \"The Lewis and Clark Expedition began in modern day Missouri and ended in what was the state of Oregon.\\nDoes the preceding sentence contain non-contemporaneous (anachronistic) elements?\",\n          \"The woman and the wooly mammoth happily played together in the field.\\nDoes the preceding sentence contain non-contemporaneous (anachronistic) elements?\",\n          \"The hoplite was shot by a musket before he could fire the cannon.\\nDoes the preceding sentence contain non-contemporaneous (anachronistic) elements?\"\n        ],\n        \"semantic_type\": \"\",\n        \"description\": \"\"\n      }\n    },\n    {\n      \"column\": \"targets\",\n      \"properties\": {\n        \"dtype\": \"object\",\n        \"semantic_type\": \"\",\n        \"description\": \"\"\n      }\n    },\n    {\n      \"column\": \"multiple_choice_targets\",\n      \"properties\": {\n        \"dtype\": \"object\",\n        \"semantic_type\": \"\",\n        \"description\": \"\"\n      }\n    },\n    {\n      \"column\": \"multiple_choice_scores\",\n      \"properties\": {\n        \"dtype\": \"object\",\n        \"semantic_type\": \"\",\n        \"description\": \"\"\n      }\n    },\n    {\n      \"column\": \"idx\",\n      \"properties\": {\n        \"dtype\": \"number\",\n        \"std\": 51,\n        \"min\": 0,\n        \"max\": 183,\n        \"num_unique_values\": 114,\n        \"samples\": [\n          150,\n          106,\n          8\n        ],\n        \"semantic_type\": \"\",\n        \"description\": \"\"\n      }\n    }\n  ]\n}"
            }
          },
          "metadata": {},
          "execution_count": 3
        }
      ]
    },
    {
      "cell_type": "markdown",
      "source": [
        "# 3. Exploratory Data Analysis (EDA) and Preprocessing\n",
        "The inputs column is currently a formatted string containing the sentence, a question, and options. This is not ideal for our pipeline, which just needs the core sentence. We'll perform some simple preprocessing to:\n",
        "\n",
        "Extract the sentence from the inputs column.\n",
        "\n",
        "Clean up the targets column to have a single, clean label."
      ],
      "metadata": {
        "id": "CFD5kv9V6Zqh"
      }
    },
    {
      "cell_type": "code",
      "source": [
        "# The correct and final function to extract the sentence\n",
        "def extract_sentence_from_prompt(prompt_text: str) -> str:\n",
        "    \"\"\"\n",
        "    Extracts the sentence by splitting the string at the first newline character\n",
        "    and taking the first part.\n",
        "    \"\"\"\n",
        "    if not isinstance(prompt_text, str):\n",
        "        return \"\"\n",
        "    # Split the string only once at the first newline and take the part before it.\n",
        "    sentence = prompt_text.split('\\n', 1)[0]\n",
        "    return sentence.strip()\n",
        "\n",
        "def preprocess_data_final(df: pd.DataFrame) -> pd.DataFrame:\n",
        "    \"\"\"\n",
        "    Cleans the DataFrame using the definitive sentence extractor based on the newline character.\n",
        "    \"\"\"\n",
        "    df['sentence'] = df['inputs'].apply(extract_sentence_from_prompt)\n",
        "    df['true_label'] = df['targets'].apply(lambda x: x[0])\n",
        "\n",
        "    # Remove rows where the sentence extraction resulted in an empty string\n",
        "    original_rows = len(df)\n",
        "    df = df[df['sentence'] != ''].copy()\n",
        "    rows_dropped = original_rows - len(df)\n",
        "\n",
        "    if rows_dropped > 0:\n",
        "        print(f\"Info: Dropped {rows_dropped} out of {original_rows} rows that were empty.\")\n",
        "\n",
        "    return df\n",
        "\n",
        "# --- Rerun the entire preprocessing on the original sample ---\n",
        "print(\"Applying the definitive preprocessing logic...\")\n",
        "df_processed = preprocess_data_final(df_sample.copy())\n",
        "\n",
        "# --- FINAL VERIFICATION ---\n",
        "print(\"-\" * 30)\n",
        "if len(df_processed) > 0:\n",
        "    print(f\"✅ Success! You now have {len(df_processed)} rows of data to work with.\")\n",
        "    print(\"Here is a sample of your cleaned data:\")\n",
        "    print(df_processed[['sentence', 'true_label']].head())\n",
        "else:\n",
        "    print(\"❌ Error: The DataFrame is still empty. Please double-check the 'inputs' column format.\")"
      ],
      "metadata": {
        "colab": {
          "base_uri": "https://localhost:8080/"
        },
        "id": "MAbyzBpK6pcV",
        "outputId": "5df60537-f351-4b4f-bdc6-b79a69209006"
      },
      "execution_count": 4,
      "outputs": [
        {
          "output_type": "stream",
          "name": "stdout",
          "text": [
            "Applying the definitive preprocessing logic...\n",
            "------------------------------\n",
            "✅ Success! You now have 200 rows of data to work with.\n",
            "Here is a sample of your cleaned data:\n",
            "                                              sentence true_label\n",
            "102  Pharoah Thutmose III successfully expanded the...         No\n",
            "179  Pharoah Thutmose III successfully expanded the...        Yes\n",
            "92   Johann Sebastian Bach wrote the book \"Mathemat...         No\n",
            "14   Thomas Jefferson enjoyed honeycrisp apples on ...        Yes\n",
            "106  The woman and the wooly mammoth happily played...         No\n"
          ]
        }
      ]
    },
    {
      "cell_type": "code",
      "source": [
        "# Let's inspect the source material from the original sampled DataFrame\n",
        "print(\"--- Inspecting Raw 'inputs' Data ---\")\n",
        "for text_input in df_sample['inputs'].head(3):\n",
        "    print(repr(text_input)) # repr() shows hidden characters like \\n\n",
        "    print(\"-\" * 20)"
      ],
      "metadata": {
        "colab": {
          "base_uri": "https://localhost:8080/"
        },
        "id": "0v_0zAYS89rO",
        "outputId": "64d44b59-04e8-401f-8154-3f345ad6e728"
      },
      "execution_count": 5,
      "outputs": [
        {
          "output_type": "stream",
          "name": "stdout",
          "text": [
            "--- Inspecting Raw 'inputs' Data ---\n",
            "'Pharoah Thutmose III successfully expanded the borders of the Egyptian empire through persistent military campaigns and improved military technology, such as spear tips made of jade.\\nDoes the preceding sentence contain non-contemporaneous (anachronistic) elements?'\n",
            "--------------------\n",
            "'Pharoah Thutmose III successfully expanded the borders of the Egyptian empire through persistent military campaigns and improved military technology, such as spear tips made of titanium.\\nDoes the preceding sentence contain non-contemporaneous (anachronistic) elements?'\n",
            "--------------------\n",
            "'Johann Sebastian Bach wrote the book \"Mathematical Principles of Natural Philosophy\".\\nDoes the preceding sentence contain non-contemporaneous (anachronistic) elements?'\n",
            "--------------------\n"
          ]
        }
      ]
    },
    {
      "cell_type": "markdown",
      "source": [
        "Now, let's check the distribution."
      ],
      "metadata": {
        "id": "sJd7WXf46-em"
      }
    },
    {
      "cell_type": "code",
      "source": [
        "# Visualize the distribution of the true labels\n",
        "plt.figure(figsize=(8, 5))\n",
        "sns.countplot(x='true_label', data=df_processed, palette='viridis')\n",
        "plt.title('Distribution of Labels in the Sampled Dataset')\n",
        "plt.xlabel('Label')\n",
        "plt.ylabel('Count')\n",
        "plt.show()"
      ],
      "metadata": {
        "colab": {
          "base_uri": "https://localhost:8080/",
          "height": 574
        },
        "id": "K_1_o1my7Ay8",
        "outputId": "228c9324-8147-4d8c-8116-9c6d1cfa76a3"
      },
      "execution_count": 6,
      "outputs": [
        {
          "output_type": "stream",
          "name": "stderr",
          "text": [
            "/tmp/ipython-input-3304080569.py:3: FutureWarning: \n",
            "\n",
            "Passing `palette` without assigning `hue` is deprecated and will be removed in v0.14.0. Assign the `x` variable to `hue` and set `legend=False` for the same effect.\n",
            "\n",
            "  sns.countplot(x='true_label', data=df_processed, palette='viridis')\n"
          ]
        },
        {
          "output_type": "display_data",
          "data": {
            "text/plain": [
              "<Figure size 800x500 with 1 Axes>"
            ],
            "image/png": "[encoded data removed]"
          },
          "metadata": {}
        }
      ]
    },
    {
      "cell_type": "markdown",
      "source": [
        "#4. Building the Zero-Shot Classification Pipeline\n",
        "We'll initialize a zero-shot-classification pipeline from the transformers library. This pipeline uses a model pre-trained on Natural Language Inference (NLI), which is excellent at determining if a \"premise\" (our sentence) logically entails a \"hypothesis\" (our candidate labels).\n",
        "\n",
        "We'll use a popular and effective model for this task: facebook/bart-large-mnli."
      ],
      "metadata": {
        "id": "sIvLlO1H6LB_"
      }
    },
    {
      "cell_type": "code",
      "source": [
        "# Initialize the zero-shot classification pipeline\n",
        "# We specify the model and the device. Using GPU (device=0) is much faster.\n",
        "classifier = pipeline(\"zero-shot-classification\",\n",
        "                      model=\"facebook/bart-large-mnli\",\n",
        "                      device=0) # Use 0 for GPU, -1 for CPU"
      ],
      "metadata": {
        "colab": {
          "base_uri": "https://localhost:8080/"
        },
        "id": "NgwXgTwu7Qjl",
        "outputId": "a5bacc24-11fa-45bf-e93d-486088fe6414"
      },
      "execution_count": 18,
      "outputs": [
        {
          "output_type": "stream",
          "name": "stderr",
          "text": [
            "Device set to use cuda:0\n"
          ]
        }
      ]
    },
    {
      "cell_type": "markdown",
      "source": [
        "Now, we define our candidate labels. The choice of labels is crucial in zero-shot learning as it directly impacts performance. The labels should be clear and directly relate to the task. We'll use the same labels as the dataset for a straightforward evaluation."
      ],
      "metadata": {
        "id": "QFb83XCs7YLd"
      }
    },
    {
      "cell_type": "code",
      "source": [
        "# Define the candidate labels for our classification task\n",
        "candidate_labels = [\"anachronistic\", \"not anachronistic\"]"
      ],
      "metadata": {
        "id": "6m6Zpw5c7bwA"
      },
      "execution_count": 8,
      "outputs": []
    },
    {
      "cell_type": "markdown",
      "source": [
        "#5. Running Inference and Getting Predictions\n",
        "With our pipeline ready, we can now feed it our sentences. We'll iterate through our processed DataFrame and get a prediction for each sentence. The pipeline returns a dictionary with labels and their corresponding confidence scores. We'll consider the label with the highest score as the model's prediction."
      ],
      "metadata": {
        "id": "PpZbvBVU7elI"
      }
    },
    {
      "cell_type": "code",
      "source": [
        "# This cell should now run without errors\n",
        "\n",
        "# We'll store the predictions in a list\n",
        "predictions = []\n",
        "\n",
        "# Use tqdm for a progress bar as this step can take a few minutes\n",
        "for sentence in tqdm(df_processed['sentence']):\n",
        "    # The pipeline takes the sentence and the candidate labels\n",
        "    result = classifier(sentence, candidate_labels)\n",
        "    # We append the label with the highest score to our predictions list\n",
        "    predictions.append(result['labels'][0])\n",
        "\n",
        "# Add the predictions to our DataFrame\n",
        "df_processed['predicted_label'] = predictions\n",
        "\n",
        "print(\"\\nInference complete. Here's a look at the results:\")\n",
        "df_processed[['sentence', 'true_label', 'predicted_label']].head(10)"
      ],
      "metadata": {
        "colab": {
          "base_uri": "https://localhost:8080/",
          "height": 447,
          "referenced_widgets": [
            "5ead83e35218405a8dd0a86f8bb5c6ef",
            "72890891bc0d404ca81af1ff875ab704",
            "1e55763bac6b44ecb0aa8974b59ebabb",
            "cbecee427892426a9375201f13187d08",
            "6b180a4a161b4d429d4d0c0e7bd9749f",
            "3c9d416dd01942bd934718ee7143363d",
            "9be8b291adc442459139a5916eb32124",
            "7064539a7ebe4fbcbe1645e2bdf8dad4",
            "d67212e08c254cb38a1a130b20925acd",
            "214a8c0e71484fa493213bdb3833b42a",
            "5fb72277d7ee41d78daf3d1df21823bd"
          ]
        },
        "id": "rnKR3Cfu7hQO",
        "outputId": "1605819b-cff2-44b7-a755-508ca4b3e8c1"
      },
      "execution_count": 9,
      "outputs": [
        {
          "output_type": "display_data",
          "data": {
            "text/plain": [
              "  0%|          | 0/200 [00:00<?, ?it/s]"
            ],
            "application/vnd.jupyter.widget-view+json": {
              "version_major": 2,
              "version_minor": 0,
              "model_id": "5ead83e35218405a8dd0a86f8bb5c6ef"
            }
          },
          "metadata": {}
        },
        {
          "output_type": "stream",
          "name": "stderr",
          "text": [
            "You seem to be using the pipelines sequentially on GPU. In order to maximize efficiency please use a dataset\n"
          ]
        },
        {
          "output_type": "stream",
          "name": "stdout",
          "text": [
            "\n",
            "Inference complete. Here's a look at the results:\n"
          ]
        },
        {
          "output_type": "execute_result",
          "data": {
            "text/plain": [
              "                                              sentence true_label  \\\n",
              "102  Pharoah Thutmose III successfully expanded the...         No   \n",
              "179  Pharoah Thutmose III successfully expanded the...        Yes   \n",
              "92   Johann Sebastian Bach wrote the book \"Mathemat...         No   \n",
              "14   Thomas Jefferson enjoyed honeycrisp apples on ...        Yes   \n",
              "106  The woman and the wooly mammoth happily played...         No   \n",
              "71   President Syngman Rhee sent a letter commendin...         No   \n",
              "20   Joan of Arc achieved martyrdom by defeating a ...        Yes   \n",
              "102  Pharoah Thutmose III successfully expanded the...         No   \n",
              "121  The winner of the first ever F1 World Champion...        Yes   \n",
              "74   The first ever movie in color depicted the lif...        Yes   \n",
              "\n",
              "       predicted_label  \n",
              "102  not anachronistic  \n",
              "179  not anachronistic  \n",
              "92   not anachronistic  \n",
              "14   not anachronistic  \n",
              "106  not anachronistic  \n",
              "71       anachronistic  \n",
              "20   not anachronistic  \n",
              "102  not anachronistic  \n",
              "121  not anachronistic  \n",
              "74       anachronistic  "
            ],
            "text/html": [
              "\n",
              "  <div id=\"df-ab30a452-2349-4781-a96d-a46589c75a51\" class=\"colab-df-container\">\n",
              "    <div>\n",
              "<style scoped>\n",
              "    .dataframe tbody tr th:only-of-type {\n",
              "        vertical-align: middle;\n",
              "    }\n",
              "\n",
              "    .dataframe tbody tr th {\n",
              "        vertical-align: top;\n",
              "    }\n",
              "\n",
              "    .dataframe thead th {\n",
              "        text-align: right;\n",
              "    }\n",
              "</style>\n",
              "<table border=\"1\" class=\"dataframe\">\n",
              "  <thead>\n",
              "    <tr style=\"text-align: right;\">\n",
              "      <th></th>\n",
              "      <th>sentence</th>\n",
              "      <th>true_label</th>\n",
              "      <th>predicted_label</th>\n",
              "    </tr>\n",
              "  </thead>\n",
              "  <tbody>\n",
              "    <tr>\n",
              "      <th>102</th>\n",
              "      <td>Pharoah Thutmose III successfully expanded the...</td>\n",
              "      <td>No</td>\n",
              "      <td>not anachronistic</td>\n",
              "    </tr>\n",
              "    <tr>\n",
              "      <th>179</th>\n",
              "      <td>Pharoah Thutmose III successfully expanded the...</td>\n",
              "      <td>Yes</td>\n",
              "      <td>not anachronistic</td>\n",
              "    </tr>\n",
              "    <tr>\n",
              "      <th>92</th>\n",
              "      <td>Johann Sebastian Bach wrote the book \"Mathemat...</td>\n",
              "      <td>No</td>\n",
              "      <td>not anachronistic</td>\n",
              "    </tr>\n",
              "    <tr>\n",
              "      <th>14</th>\n",
              "      <td>Thomas Jefferson enjoyed honeycrisp apples on ...</td>\n",
              "      <td>Yes</td>\n",
              "      <td>not anachronistic</td>\n",
              "    </tr>\n",
              "    <tr>\n",
              "      <th>106</th>\n",
              "      <td>The woman and the wooly mammoth happily played...</td>\n",
              "      <td>No</td>\n",
              "      <td>not anachronistic</td>\n",
              "    </tr>\n",
              "    <tr>\n",
              "      <th>71</th>\n",
              "      <td>President Syngman Rhee sent a letter commendin...</td>\n",
              "      <td>No</td>\n",
              "      <td>anachronistic</td>\n",
              "    </tr>\n",
              "    <tr>\n",
              "      <th>20</th>\n",
              "      <td>Joan of Arc achieved martyrdom by defeating a ...</td>\n",
              "      <td>Yes</td>\n",
              "      <td>not anachronistic</td>\n",
              "    </tr>\n",
              "    <tr>\n",
              "      <th>102</th>\n",
              "      <td>Pharoah Thutmose III successfully expanded the...</td>\n",
              "      <td>No</td>\n",
              "      <td>not anachronistic</td>\n",
              "    </tr>\n",
              "    <tr>\n",
              "      <th>121</th>\n",
              "      <td>The winner of the first ever F1 World Champion...</td>\n",
              "      <td>Yes</td>\n",
              "      <td>not anachronistic</td>\n",
              "    </tr>\n",
              "    <tr>\n",
              "      <th>74</th>\n",
              "      <td>The first ever movie in color depicted the lif...</td>\n",
              "      <td>Yes</td>\n",
              "      <td>anachronistic</td>\n",
              "    </tr>\n",
              "  </tbody>\n",
              "</table>\n",
              "</div>\n",
              "    <div class=\"colab-df-buttons\">\n",
              "\n",
              "  <div class=\"colab-df-container\">\n",
              "    <button class=\"colab-df-convert\" onclick=\"convertToInteractive('df-ab30a452-2349-4781-a96d-a46589c75a51')\"\n",
              "            title=\"Convert this dataframe to an interactive table.\"\n",
              "            style=\"display:none;\">\n",
              "\n",
              "  <svg xmlns=\"http://www.w3.org/2000/svg\" height=\"24px\" viewBox=\"0 -960 960 960\">\n",
              "    <path d=\"M120-120v-720h720v720H120Zm60-500h600v-160H180v160Zm220 220h160v-160H400v160Zm0 220h160v-160H400v160ZM180-400h160v-160H180v160Zm440 0h160v-160H620v160ZM180-180h160v-160H180v160Zm440 0h160v-160H620v160Z\"/>\n",
              "  </svg>\n",
              "    </button>\n",
              "\n",
              "  <style>\n",
              "    .colab-df-container {\n",
              "      display:flex;\n",
              "      gap: 12px;\n",
              "    }\n",
              "\n",
              "    .colab-df-convert {\n",
              "      background-color: #E8F0FE;\n",
              "      border: none;\n",
              "      border-radius: 50%;\n",
              "      cursor: pointer;\n",
              "      display: none;\n",
              "      fill: #1967D2;\n",
              "      height: 32px;\n",
              "      padding: 0 0 0 0;\n",
              "      width: 32px;\n",
              "    }\n",
              "\n",
              "    .colab-df-convert:hover {\n",
              "      background-color: #E2EBFA;\n",
              "      box-shadow: 0px 1px 2px rgba(60, 64, 67, 0.3), 0px 1px 3px 1px rgba(60, 64, 67, 0.15);\n",
              "      fill: #174EA6;\n",
              "    }\n",
              "\n",
              "    .colab-df-buttons div {\n",
              "      margin-bottom: 4px;\n",
              "    }\n",
              "\n",
              "    [theme=dark] .colab-df-convert {\n",
              "      background-color: #3B4455;\n",
              "      fill: #D2E3FC;\n",
              "    }\n",
              "\n",
              "    [theme=dark] .colab-df-convert:hover {\n",
              "      background-color: #434B5C;\n",
              "      box-shadow: 0px 1px 3px 1px rgba(0, 0, 0, 0.15);\n",
              "      filter: drop-shadow(0px 1px 2px rgba(0, 0, 0, 0.3));\n",
              "      fill: #FFFFFF;\n",
              "    }\n",
              "  </style>\n",
              "\n",
              "    <script>\n",
              "      const buttonEl =\n",
              "        document.querySelector('#df-ab30a452-2349-4781-a96d-a46589c75a51 button.colab-df-convert');\n",
              "      buttonEl.style.display =\n",
              "        google.colab.kernel.accessAllowed ? 'block' : 'none';\n",
              "\n",
              "      async function convertToInteractive(key) {\n",
              "        const element = document.querySelector('#df-ab30a452-2349-4781-a96d-a46589c75a51');\n",
              "        const dataTable =\n",
              "          await google.colab.kernel.invokeFunction('convertToInteractive',\n",
              "                                                    [key], {});\n",
              "        if (!dataTable) return;\n",
              "\n",
              "        const docLinkHtml = 'Like what you see? Visit the ' +\n",
              "          '<a target=\"_blank\" href=https://colab.research.google.com/notebooks/data_table.ipynb>data table notebook</a>'\n",
              "          + ' to learn more about interactive tables.';\n",
              "        element.innerHTML = '';\n",
              "        dataTable['output_type'] = 'display_data';\n",
              "        await google.colab.output.renderOutput(dataTable, element);\n",
              "        const docLink = document.createElement('div');\n",
              "        docLink.innerHTML = docLinkHtml;\n",
              "        element.appendChild(docLink);\n",
              "      }\n",
              "    </script>\n",
              "  </div>\n",
              "\n",
              "\n",
              "    <div id=\"df-e7281ad2-6c85-4efb-ad5b-76a23ebeb662\">\n",
              "      <button class=\"colab-df-quickchart\" onclick=\"quickchart('df-e7281ad2-6c85-4efb-ad5b-76a23ebeb662')\"\n",
              "                title=\"Suggest charts\"\n",
              "                style=\"display:none;\">\n",
              "\n",
              "<svg xmlns=\"http://www.w3.org/2000/svg\" height=\"24px\"viewBox=\"0 0 24 24\"\n",
              "     width=\"24px\">\n",
              "    <g>\n",
              "        <path d=\"M19 3H5c-1.1 0-2 .9-2 2v14c0 1.1.9 2 2 2h14c1.1 0 2-.9 2-2V5c0-1.1-.9-2-2-2zM9 17H7v-7h2v7zm4 0h-2V7h2v10zm4 0h-2v-4h2v4z\"/>\n",
              "    </g>\n",
              "</svg>\n",
              "      </button>\n",
              "\n",
              "<style>\n",
              "  .colab-df-quickchart {\n",
              "      --bg-color: #E8F0FE;\n",
              "      --fill-color: #1967D2;\n",
              "      --hover-bg-color: #E2EBFA;\n",
              "      --hover-fill-color: #174EA6;\n",
              "      --disabled-fill-color: #AAA;\n",
              "      --disabled-bg-color: #DDD;\n",
              "  }\n",
              "\n",
              "  [theme=dark] .colab-df-quickchart {\n",
              "      --bg-color: #3B4455;\n",
              "      --fill-color: #D2E3FC;\n",
              "      --hover-bg-color: #434B5C;\n",
              "      --hover-fill-color: #FFFFFF;\n",
              "      --disabled-bg-color: #3B4455;\n",
              "      --disabled-fill-color: #666;\n",
              "  }\n",
              "\n",
              "  .colab-df-quickchart {\n",
              "    background-color: var(--bg-color);\n",
              "    border: none;\n",
              "    border-radius: 50%;\n",
              "    cursor: pointer;\n",
              "    display: none;\n",
              "    fill: var(--fill-color);\n",
              "    height: 32px;\n",
              "    padding: 0;\n",
              "    width: 32px;\n",
              "  }\n",
              "\n",
              "  .colab-df-quickchart:hover {\n",
              "    background-color: var(--hover-bg-color);\n",
              "    box-shadow: 0 1px 2px rgba(60, 64, 67, 0.3), 0 1px 3px 1px rgba(60, 64, 67, 0.15);\n",
              "    fill: var(--button-hover-fill-color);\n",
              "  }\n",
              "\n",
              "  .colab-df-quickchart-complete:disabled,\n",
              "  .colab-df-quickchart-complete:disabled:hover {\n",
              "    background-color: var(--disabled-bg-color);\n",
              "    fill: var(--disabled-fill-color);\n",
              "    box-shadow: none;\n",
              "  }\n",
              "\n",
              "  .colab-df-spinner {\n",
              "    border: 2px solid var(--fill-color);\n",
              "    border-color: transparent;\n",
              "    border-bottom-color: var(--fill-color);\n",
              "    animation:\n",
              "      spin 1s steps(1) infinite;\n",
              "  }\n",
              "\n",
              "  @keyframes spin {\n",
              "    0% {\n",
              "      border-color: transparent;\n",
              "      border-bottom-color: var(--fill-color);\n",
              "      border-left-color: var(--fill-color);\n",
              "    }\n",
              "    20% {\n",
              "      border-color: transparent;\n",
              "      border-left-color: var(--fill-color);\n",
              "      border-top-color: var(--fill-color);\n",
              "    }\n",
              "    30% {\n",
              "      border-color: transparent;\n",
              "      border-left-color: var(--fill-color);\n",
              "      border-top-color: var(--fill-color);\n",
              "      border-right-color: var(--fill-color);\n",
              "    }\n",
              "    40% {\n",
              "      border-color: transparent;\n",
              "      border-right-color: var(--fill-color);\n",
              "      border-top-color: var(--fill-color);\n",
              "    }\n",
              "    60% {\n",
              "      border-color: transparent;\n",
              "      border-right-color: var(--fill-color);\n",
              "    }\n",
              "    80% {\n",
              "      border-color: transparent;\n",
              "      border-right-color: var(--fill-color);\n",
              "      border-bottom-color: var(--fill-color);\n",
              "    }\n",
              "    90% {\n",
              "      border-color: transparent;\n",
              "      border-bottom-color: var(--fill-color);\n",
              "    }\n",
              "  }\n",
              "</style>\n",
              "\n",
              "      <script>\n",
              "        async function quickchart(key) {\n",
              "          const quickchartButtonEl =\n",
              "            document.querySelector('#' + key + ' button');\n",
              "          quickchartButtonEl.disabled = true;  // To prevent multiple clicks.\n",
              "          quickchartButtonEl.classList.add('colab-df-spinner');\n",
              "          try {\n",
              "            const charts = await google.colab.kernel.invokeFunction(\n",
              "                'suggestCharts', [key], {});\n",
              "          } catch (error) {\n",
              "            console.error('Error during call to suggestCharts:', error);\n",
              "          }\n",
              "          quickchartButtonEl.classList.remove('colab-df-spinner');\n",
              "          quickchartButtonEl.classList.add('colab-df-quickchart-complete');\n",
              "        }\n",
              "        (() => {\n",
              "          let quickchartButtonEl =\n",
              "            document.querySelector('#df-e7281ad2-6c85-4efb-ad5b-76a23ebeb662 button');\n",
              "          quickchartButtonEl.style.display =\n",
              "            google.colab.kernel.accessAllowed ? 'block' : 'none';\n",
              "        })();\n",
              "      </script>\n",
              "    </div>\n",
              "\n",
              "    </div>\n",
              "  </div>\n"
            ],
            "application/vnd.google.colaboratory.intrinsic+json": {
              "type": "dataframe",
              "summary": "{\n  \"name\": \"df_processed[['sentence', 'true_label', 'predicted_label']]\",\n  \"rows\": 10,\n  \"fields\": [\n    {\n      \"column\": \"sentence\",\n      \"properties\": {\n        \"dtype\": \"string\",\n        \"num_unique_values\": 9,\n        \"samples\": [\n          \"The winner of the first ever F1 World Championship was Dale Earnhardt Jr.\",\n          \"Pharoah Thutmose III successfully expanded the borders of the Egyptian empire through persistent military campaigns and improved military technology, such as spear tips made of titanium.\",\n          \"President Syngman Rhee sent a letter commending Hugo Chavez's birthday.\"\n        ],\n        \"semantic_type\": \"\",\n        \"description\": \"\"\n      }\n    },\n    {\n      \"column\": \"true_label\",\n      \"properties\": {\n        \"dtype\": \"category\",\n        \"num_unique_values\": 2,\n        \"samples\": [\n          \"Yes\",\n          \"No\"\n        ],\n        \"semantic_type\": \"\",\n        \"description\": \"\"\n      }\n    },\n    {\n      \"column\": \"predicted_label\",\n      \"properties\": {\n        \"dtype\": \"category\",\n        \"num_unique_values\": 2,\n        \"samples\": [\n          \"anachronistic\",\n          \"not anachronistic\"\n        ],\n        \"semantic_type\": \"\",\n        \"description\": \"\"\n      }\n    }\n  ]\n}"
            }
          },
          "metadata": {},
          "execution_count": 9
        }
      ]
    },
    {
      "cell_type": "markdown",
      "source": [
        "#6. Evaluating the Model.\n",
        "Now that we have the model's predictions, let's evaluate its performance. We'll compare the true_label with the predicted_label using standard classification metrics and a confusion matrix.\n",
        "\n",
        "Classification Metrics\n",
        "The classification_report from scikit-learn gives us a nice summary of precision, recall, and F1-score for each class, along with the overall accuracy."
      ],
      "metadata": {
        "id": "Z08UgBMU77TP"
      }
    },
    {
      "cell_type": "code",
      "source": [
        "# Create a mapping dictionary\n",
        "label_map = {\n",
        "    'Yes': 'anachronistic',\n",
        "    'No': 'not anachronistic'\n",
        "}\n",
        "\n",
        "# Apply the mapping to the true_label column\n",
        "df_processed['true_label'] = df_processed['true_label'].map(label_map)\n",
        "\n",
        "# Verify the change\n",
        "print(\"Labels have been harmonized. New label distribution:\")\n",
        "print(df_processed['true_label'].value_counts())"
      ],
      "metadata": {
        "colab": {
          "base_uri": "https://localhost:8080/"
        },
        "id": "MQr9uXHP-n2s",
        "outputId": "cdd19dd2-fed5-4f30-ef92-a2e28bc3a346"
      },
      "execution_count": 12,
      "outputs": [
        {
          "output_type": "stream",
          "name": "stdout",
          "text": [
            "Labels have been harmonized. New label distribution:\n",
            "true_label\n",
            "not anachronistic    101\n",
            "anachronistic         99\n",
            "Name: count, dtype: int64\n"
          ]
        }
      ]
    },
    {
      "cell_type": "code",
      "source": [
        "# Generate the classification report\n",
        "report = classification_report(df_processed['true_label'], df_processed['predicted_label'])\n",
        "print(\"Classification Report:\\n\")\n",
        "print(report)"
      ],
      "metadata": {
        "colab": {
          "base_uri": "https://localhost:8080/"
        },
        "id": "aR7OstKZ75nD",
        "outputId": "6374e66b-c608-40e6-d752-7e83f2bd529e"
      },
      "execution_count": 13,
      "outputs": [
        {
          "output_type": "stream",
          "name": "stdout",
          "text": [
            "Classification Report:\n",
            "\n",
            "                   precision    recall  f1-score   support\n",
            "\n",
            "    anachronistic       0.46      0.16      0.24        99\n",
            "not anachronistic       0.50      0.81      0.62       101\n",
            "\n",
            "         accuracy                           0.49       200\n",
            "        macro avg       0.48      0.49      0.43       200\n",
            "     weighted avg       0.48      0.49      0.43       200\n",
            "\n"
          ]
        }
      ]
    },
    {
      "cell_type": "markdown",
      "source": [
        "#Confusion Matrix\n",
        "A confusion matrix is a great way to visualize the model's performance. It shows us exactly where the model is getting confused. The diagonal elements represent correct predictions, while off-diagonal elements are errors."
      ],
      "metadata": {
        "id": "yV8djn_m_Wup"
      }
    },
    {
      "cell_type": "code",
      "source": [
        "# Generate the confusion matrix\n",
        "cm = confusion_matrix(df_processed['true_label'], df_processed['predicted_label'], labels=candidate_labels)\n",
        "\n",
        "# Plot the confusion matrix using a heatmap for better visualization\n",
        "plt.figure(figsize=(8, 6))\n",
        "sns.heatmap(cm, annot=True, fmt='d', cmap='Blues',\n",
        "            xticklabels=candidate_labels, yticklabels=candidate_labels)\n",
        "plt.title('Confusion Matrix')\n",
        "plt.xlabel('Predicted Label')\n",
        "plt.ylabel('True Label')\n",
        "plt.show()"
      ],
      "metadata": {
        "colab": {
          "base_uri": "https://localhost:8080/",
          "height": 564
        },
        "id": "UrIn4m6m-YsH",
        "outputId": "f6d51dce-f046-4dbc-a80c-92360e779127"
      },
      "execution_count": 14,
      "outputs": [
        {
          "output_type": "display_data",
          "data": {
            "text/plain": [
              "<Figure size 800x600 with 2 Axes>"
            ],
            "image/png": "[encoded data removed]"
          },
          "metadata": {}
        }
      ]
    },
    {
      "cell_type": "code",
      "source": [
        "# Option A: More descriptive labels\n",
        "candidate_labels = [\"this sentence contains a historical error\", \"this sentence is historically accurate\"]\n",
        "\n",
        "# Option B: A different phrasing\n",
        "# candidate_labels = [\"out of place in time\", \"temporally consistent\"]\n",
        "\n",
        "# --- Then, rerun your inference loop ---\n",
        "predictions = []\n",
        "for sentence in tqdm(df_processed['sentence']):\n",
        "    result = classifier(sentence, candidate_labels)\n",
        "    predictions.append(result['labels'][0])\n",
        "\n",
        "df_processed['predicted_label'] = predictions\n",
        "\n",
        "# --- And map your true labels accordingly ---\n",
        "label_map = {\n",
        "    'anachronistic': \"this sentence contains a historical error\",\n",
        "    'not anachronistic': \"this sentence is historically accurate\"\n",
        "}\n",
        "df_processed['true_label_mapped'] = df_processed['true_label'].map(label_map)\n",
        "\n",
        "# --- Finally, rerun the classification report ---\n",
        "# Make sure to compare the mapped true labels to the predictions\n",
        "report = classification_report(df_processed['true_label_mapped'], df_processed['predicted_label'])\n",
        "print(report)"
      ],
      "metadata": {
        "colab": {
          "base_uri": "https://localhost:8080/",
          "height": 205,
          "referenced_widgets": [
            "b692ac42f34b4ed9b3fe929e88d2cbda",
            "92a58e190af845ad97de5f91dbea95a5",
            "aa7006be633542198fa8b83ae24c12e1",
            "ea2477f5d00e4577960f36b5a199e1ae",
            "92b26457008b4030a838df66ab313ea6",
            "c74ab11c9a204d48923b525c1a233047",
            "f929aeede33e46fbbb87c035659af939",
            "695deebc1f2e43878fb03b6fa71565b8",
            "f64e6d29c9c44c17a70e1f2bb1cb1298",
            "68a3bd918cea47c5be30a3099a0a5671",
            "8d3c10710bad47b7ba782cf807f7c945"
          ]
        },
        "id": "6z_WJkzn_FYZ",
        "outputId": "3b48e0bc-5da7-46ed-d4b8-cfaf3aa2fc4d"
      },
      "execution_count": 17,
      "outputs": [
        {
          "output_type": "display_data",
          "data": {
            "text/plain": [
              "  0%|          | 0/200 [00:00<?, ?it/s]"
            ],
            "application/vnd.jupyter.widget-view+json": {
              "version_major": 2,
              "version_minor": 0,
              "model_id": "b692ac42f34b4ed9b3fe929e88d2cbda"
            }
          },
          "metadata": {}
        },
        {
          "output_type": "stream",
          "name": "stdout",
          "text": [
            "                                           precision    recall  f1-score   support\n",
            "\n",
            "this sentence contains a historical error       0.50      0.55      0.52        99\n",
            "   this sentence is historically accurate       0.51      0.46      0.48       101\n",
            "\n",
            "                                 accuracy                           0.50       200\n",
            "                                macro avg       0.50      0.50      0.50       200\n",
            "                             weighted avg       0.50      0.50      0.50       200\n",
            "\n"
          ]
        }
      ]
    }
  ]
}